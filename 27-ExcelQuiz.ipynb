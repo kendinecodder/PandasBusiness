{
 "cells": [
  {
   "cell_type": "code",
   "execution_count": 1,
   "metadata": {},
   "outputs": [],
   "source": [
    "import pandas as pd\n",
    "import numpy as np"
   ]
  },
  {
   "cell_type": "code",
   "execution_count": 2,
   "metadata": {},
   "outputs": [],
   "source": [
    "dataFrame = pd.read_excel(\"27-SalarySheet.xlsx\")"
   ]
  },
  {
   "cell_type": "code",
   "execution_count": 3,
   "metadata": {},
   "outputs": [
    {
     "data": {
      "text/html": [
       "<div>\n",
       "<style scoped>\n",
       "    .dataframe tbody tr th:only-of-type {\n",
       "        vertical-align: middle;\n",
       "    }\n",
       "\n",
       "    .dataframe tbody tr th {\n",
       "        vertical-align: top;\n",
       "    }\n",
       "\n",
       "    .dataframe thead th {\n",
       "        text-align: right;\n",
       "    }\n",
       "</style>\n",
       "<table border=\"1\" class=\"dataframe\">\n",
       "  <thead>\n",
       "    <tr style=\"text-align: right;\">\n",
       "      <th></th>\n",
       "      <th>Employee Name</th>\n",
       "      <th>Department</th>\n",
       "      <th>Title</th>\n",
       "      <th>Salary</th>\n",
       "    </tr>\n",
       "  </thead>\n",
       "  <tbody>\n",
       "    <tr>\n",
       "      <th>0</th>\n",
       "      <td>Semaj Bowers</td>\n",
       "      <td>Marketing</td>\n",
       "      <td>Mid</td>\n",
       "      <td>600</td>\n",
       "    </tr>\n",
       "    <tr>\n",
       "      <th>1</th>\n",
       "      <td>Gary Foster</td>\n",
       "      <td>Sales</td>\n",
       "      <td>Mid</td>\n",
       "      <td>650</td>\n",
       "    </tr>\n",
       "    <tr>\n",
       "      <th>2</th>\n",
       "      <td>Saniya Maldonado</td>\n",
       "      <td>HR</td>\n",
       "      <td>Mid</td>\n",
       "      <td>600</td>\n",
       "    </tr>\n",
       "    <tr>\n",
       "      <th>3</th>\n",
       "      <td>Jillian Zuniga</td>\n",
       "      <td>HR</td>\n",
       "      <td>C-level</td>\n",
       "      <td>1000</td>\n",
       "    </tr>\n",
       "    <tr>\n",
       "      <th>4</th>\n",
       "      <td>Courtney Mora</td>\n",
       "      <td>Sales</td>\n",
       "      <td>Mid</td>\n",
       "      <td>550</td>\n",
       "    </tr>\n",
       "    <tr>\n",
       "      <th>...</th>\n",
       "      <td>...</td>\n",
       "      <td>...</td>\n",
       "      <td>...</td>\n",
       "      <td>...</td>\n",
       "    </tr>\n",
       "    <tr>\n",
       "      <th>95</th>\n",
       "      <td>Jake Gay</td>\n",
       "      <td>Sales</td>\n",
       "      <td>Junior</td>\n",
       "      <td>443</td>\n",
       "    </tr>\n",
       "    <tr>\n",
       "      <th>96</th>\n",
       "      <td>Macy Webster</td>\n",
       "      <td>Finance</td>\n",
       "      <td>C-level</td>\n",
       "      <td>1250</td>\n",
       "    </tr>\n",
       "    <tr>\n",
       "      <th>97</th>\n",
       "      <td>Jaquan Meyers</td>\n",
       "      <td>Marketing</td>\n",
       "      <td>Mid-Senior</td>\n",
       "      <td>800</td>\n",
       "    </tr>\n",
       "    <tr>\n",
       "      <th>98</th>\n",
       "      <td>Willow Bush</td>\n",
       "      <td>Software Development</td>\n",
       "      <td>Junior</td>\n",
       "      <td>441</td>\n",
       "    </tr>\n",
       "    <tr>\n",
       "      <th>99</th>\n",
       "      <td>Emmanuel Prince</td>\n",
       "      <td>Sales</td>\n",
       "      <td>Mid</td>\n",
       "      <td>612</td>\n",
       "    </tr>\n",
       "  </tbody>\n",
       "</table>\n",
       "<p>100 rows × 4 columns</p>\n",
       "</div>"
      ],
      "text/plain": [
       "       Employee Name            Department       Title  Salary\n",
       "0       Semaj Bowers             Marketing         Mid     600\n",
       "1        Gary Foster                 Sales         Mid     650\n",
       "2   Saniya Maldonado                    HR         Mid     600\n",
       "3     Jillian Zuniga                    HR     C-level    1000\n",
       "4      Courtney Mora                 Sales         Mid     550\n",
       "..               ...                   ...         ...     ...\n",
       "95          Jake Gay                 Sales      Junior     443\n",
       "96      Macy Webster               Finance     C-level    1250\n",
       "97     Jaquan Meyers             Marketing  Mid-Senior     800\n",
       "98       Willow Bush  Software Development      Junior     441\n",
       "99   Emmanuel Prince                 Sales         Mid     612\n",
       "\n",
       "[100 rows x 4 columns]"
      ]
     },
     "execution_count": 3,
     "metadata": {},
     "output_type": "execute_result"
    }
   ],
   "source": [
    "dataFrame"
   ]
  },
  {
   "cell_type": "code",
   "execution_count": 4,
   "metadata": {},
   "outputs": [],
   "source": [
    "#1) Toplamda kaç satır veri vardır?"
   ]
  },
  {
   "cell_type": "code",
   "execution_count": 5,
   "metadata": {},
   "outputs": [],
   "source": [
    "# cevap 100"
   ]
  },
  {
   "cell_type": "code",
   "execution_count": 6,
   "metadata": {},
   "outputs": [],
   "source": [
    "#2) Bu firma ortalama ne kadar maaş vermektedir?"
   ]
  },
  {
   "cell_type": "code",
   "execution_count": 7,
   "metadata": {},
   "outputs": [
    {
     "data": {
      "text/plain": [
       "725.84"
      ]
     },
     "execution_count": 7,
     "metadata": {},
     "output_type": "execute_result"
    }
   ],
   "source": [
    "dataFrame[\"Salary\"].mean()\n"
   ]
  },
  {
   "cell_type": "code",
   "execution_count": 8,
   "metadata": {},
   "outputs": [],
   "source": [
    "# cevap 725.84"
   ]
  },
  {
   "cell_type": "code",
   "execution_count": 9,
   "metadata": {},
   "outputs": [],
   "source": [
    "#3) Bu firmada departmanlara göre ortalama maaş karşılaştırması nasıldır?"
   ]
  },
  {
   "cell_type": "code",
   "execution_count": 74,
   "metadata": {},
   "outputs": [
    {
     "data": {
      "text/plain": [
       "Department\n",
       "Finance                 805.411765\n",
       "HR                      640.937500\n",
       "Marketing               707.000000\n",
       "Sales                   656.666667\n",
       "Software Development    826.409091\n",
       "Name: Salary, dtype: float64"
      ]
     },
     "execution_count": 74,
     "metadata": {},
     "output_type": "execute_result"
    }
   ],
   "source": [
    "dataFrame.groupby(\"Department\").Salary.mean()"
   ]
  },
  {
   "cell_type": "code",
   "execution_count": 11,
   "metadata": {},
   "outputs": [
    {
     "data": {
      "text/plain": [
       "Department\n",
       "Finance                 805.411765\n",
       "HR                      640.937500\n",
       "Marketing               707.000000\n",
       "Sales                   656.666667\n",
       "Software Development    826.409091\n",
       "Name: Salary, dtype: float64"
      ]
     },
     "execution_count": 11,
     "metadata": {},
     "output_type": "execute_result"
    }
   ],
   "source": [
    "dataFrame.groupby(\"Department\")[\"Salary\"].mean()"
   ]
  },
  {
   "cell_type": "code",
   "execution_count": 12,
   "metadata": {},
   "outputs": [],
   "source": [
    "# cevap"
   ]
  },
  {
   "cell_type": "code",
   "execution_count": 13,
   "metadata": {},
   "outputs": [],
   "source": [
    "#4) Bu firmada title (senior - junior) durumuna göre ortalama maaş karşılaştırması nasıldır?"
   ]
  },
  {
   "cell_type": "code",
   "execution_count": 14,
   "metadata": {},
   "outputs": [
    {
     "data": {
      "text/plain": [
       "Title\n",
       "C-level       1058.333333\n",
       "Junior         440.625000\n",
       "Mid            641.450000\n",
       "Mid-Senior     725.500000\n",
       "Senior         867.777778\n",
       "Name: Salary, dtype: float64"
      ]
     },
     "execution_count": 14,
     "metadata": {},
     "output_type": "execute_result"
    }
   ],
   "source": [
    "dataFrame.groupby(\"Title\").Salary.mean()"
   ]
  },
  {
   "cell_type": "code",
   "execution_count": 15,
   "metadata": {},
   "outputs": [],
   "source": [
    "# cevap"
   ]
  },
  {
   "cell_type": "code",
   "execution_count": 16,
   "metadata": {},
   "outputs": [],
   "source": [
    "#5) Senior bir kişinin junior bir kişiye göre maaşı ortalama yüzde kaç fazladır?"
   ]
  },
  {
   "cell_type": "code",
   "execution_count": 17,
   "metadata": {},
   "outputs": [
    {
     "data": {
      "text/plain": [
       "96.94247438928292"
      ]
     },
     "execution_count": 17,
     "metadata": {},
     "output_type": "execute_result"
    }
   ],
   "source": [
    "dataFrame.groupby(\"Title\").Salary.mean()[\"Senior\"] / dataFrame.groupby(\"Title\").Salary.mean()[\"Junior\"] * 100 - 100"
   ]
  },
  {
   "cell_type": "code",
   "execution_count": 18,
   "metadata": {},
   "outputs": [],
   "source": [
    "# cevap"
   ]
  },
  {
   "cell_type": "code",
   "execution_count": 19,
   "metadata": {},
   "outputs": [],
   "source": [
    "#6) Software development departmanında senior bir kişinin junior bir kişiye göre maaşı ortalama ne kadar fazladır?***"
   ]
  },
  {
   "cell_type": "code",
   "execution_count": 44,
   "metadata": {},
   "outputs": [
    {
     "data": {
      "text/html": [
       "<div>\n",
       "<style scoped>\n",
       "    .dataframe tbody tr th:only-of-type {\n",
       "        vertical-align: middle;\n",
       "    }\n",
       "\n",
       "    .dataframe tbody tr th {\n",
       "        vertical-align: top;\n",
       "    }\n",
       "\n",
       "    .dataframe thead th {\n",
       "        text-align: right;\n",
       "    }\n",
       "</style>\n",
       "<table border=\"1\" class=\"dataframe\">\n",
       "  <thead>\n",
       "    <tr style=\"text-align: right;\">\n",
       "      <th></th>\n",
       "      <th>Employee Name</th>\n",
       "      <th>Department</th>\n",
       "      <th>Title</th>\n",
       "      <th>Salary</th>\n",
       "    </tr>\n",
       "  </thead>\n",
       "  <tbody>\n",
       "    <tr>\n",
       "      <th>6</th>\n",
       "      <td>Caitlin Terry</td>\n",
       "      <td>Software Development</td>\n",
       "      <td>Senior</td>\n",
       "      <td>900</td>\n",
       "    </tr>\n",
       "    <tr>\n",
       "      <th>9</th>\n",
       "      <td>Travis Morrison</td>\n",
       "      <td>Software Development</td>\n",
       "      <td>C-level</td>\n",
       "      <td>900</td>\n",
       "    </tr>\n",
       "    <tr>\n",
       "      <th>10</th>\n",
       "      <td>Heidy Weiss</td>\n",
       "      <td>Software Development</td>\n",
       "      <td>Junior</td>\n",
       "      <td>450</td>\n",
       "    </tr>\n",
       "    <tr>\n",
       "      <th>20</th>\n",
       "      <td>Leonel Klein</td>\n",
       "      <td>Software Development</td>\n",
       "      <td>Mid</td>\n",
       "      <td>850</td>\n",
       "    </tr>\n",
       "    <tr>\n",
       "      <th>22</th>\n",
       "      <td>Adriel Sandoval</td>\n",
       "      <td>Software Development</td>\n",
       "      <td>Mid</td>\n",
       "      <td>450</td>\n",
       "    </tr>\n",
       "    <tr>\n",
       "      <th>23</th>\n",
       "      <td>Sullivan Best</td>\n",
       "      <td>Software Development</td>\n",
       "      <td>C-level</td>\n",
       "      <td>1100</td>\n",
       "    </tr>\n",
       "    <tr>\n",
       "      <th>24</th>\n",
       "      <td>Tiana Duarte</td>\n",
       "      <td>Software Development</td>\n",
       "      <td>Junior</td>\n",
       "      <td>400</td>\n",
       "    </tr>\n",
       "    <tr>\n",
       "      <th>25</th>\n",
       "      <td>Kelly Blair</td>\n",
       "      <td>Software Development</td>\n",
       "      <td>Mid-Senior</td>\n",
       "      <td>600</td>\n",
       "    </tr>\n",
       "    <tr>\n",
       "      <th>27</th>\n",
       "      <td>Nicolas Odonnell</td>\n",
       "      <td>Software Development</td>\n",
       "      <td>Mid-Senior</td>\n",
       "      <td>700</td>\n",
       "    </tr>\n",
       "    <tr>\n",
       "      <th>29</th>\n",
       "      <td>Javier Wood</td>\n",
       "      <td>Software Development</td>\n",
       "      <td>C-level</td>\n",
       "      <td>900</td>\n",
       "    </tr>\n",
       "    <tr>\n",
       "      <th>34</th>\n",
       "      <td>Kelton Tyler</td>\n",
       "      <td>Software Development</td>\n",
       "      <td>C-level</td>\n",
       "      <td>1100</td>\n",
       "    </tr>\n",
       "    <tr>\n",
       "      <th>51</th>\n",
       "      <td>Draven Reid</td>\n",
       "      <td>Software Development</td>\n",
       "      <td>Senior</td>\n",
       "      <td>950</td>\n",
       "    </tr>\n",
       "    <tr>\n",
       "      <th>55</th>\n",
       "      <td>Sanai Andersen</td>\n",
       "      <td>Software Development</td>\n",
       "      <td>Mid-Senior</td>\n",
       "      <td>760</td>\n",
       "    </tr>\n",
       "    <tr>\n",
       "      <th>58</th>\n",
       "      <td>Linda David</td>\n",
       "      <td>Software Development</td>\n",
       "      <td>C-level</td>\n",
       "      <td>1900</td>\n",
       "    </tr>\n",
       "    <tr>\n",
       "      <th>59</th>\n",
       "      <td>Cailyn Holloway</td>\n",
       "      <td>Software Development</td>\n",
       "      <td>Senior</td>\n",
       "      <td>815</td>\n",
       "    </tr>\n",
       "    <tr>\n",
       "      <th>66</th>\n",
       "      <td>Jefferson Cannon</td>\n",
       "      <td>Software Development</td>\n",
       "      <td>C-level</td>\n",
       "      <td>1200</td>\n",
       "    </tr>\n",
       "    <tr>\n",
       "      <th>78</th>\n",
       "      <td>Sylvia Kane</td>\n",
       "      <td>Software Development</td>\n",
       "      <td>Senior</td>\n",
       "      <td>915</td>\n",
       "    </tr>\n",
       "    <tr>\n",
       "      <th>79</th>\n",
       "      <td>Kristina Alexander</td>\n",
       "      <td>Software Development</td>\n",
       "      <td>Mid</td>\n",
       "      <td>600</td>\n",
       "    </tr>\n",
       "    <tr>\n",
       "      <th>88</th>\n",
       "      <td>Leon Odonnell</td>\n",
       "      <td>Software Development</td>\n",
       "      <td>Mid-Senior</td>\n",
       "      <td>800</td>\n",
       "    </tr>\n",
       "    <tr>\n",
       "      <th>90</th>\n",
       "      <td>Ruben Singh</td>\n",
       "      <td>Software Development</td>\n",
       "      <td>Mid-Senior</td>\n",
       "      <td>700</td>\n",
       "    </tr>\n",
       "    <tr>\n",
       "      <th>94</th>\n",
       "      <td>William Lawrence</td>\n",
       "      <td>Software Development</td>\n",
       "      <td>Mid-Senior</td>\n",
       "      <td>750</td>\n",
       "    </tr>\n",
       "    <tr>\n",
       "      <th>98</th>\n",
       "      <td>Willow Bush</td>\n",
       "      <td>Software Development</td>\n",
       "      <td>Junior</td>\n",
       "      <td>441</td>\n",
       "    </tr>\n",
       "  </tbody>\n",
       "</table>\n",
       "</div>"
      ],
      "text/plain": [
       "         Employee Name            Department       Title  Salary\n",
       "6        Caitlin Terry  Software Development      Senior     900\n",
       "9      Travis Morrison  Software Development     C-level     900\n",
       "10         Heidy Weiss  Software Development      Junior     450\n",
       "20        Leonel Klein  Software Development         Mid     850\n",
       "22     Adriel Sandoval  Software Development         Mid     450\n",
       "23       Sullivan Best  Software Development     C-level    1100\n",
       "24        Tiana Duarte  Software Development      Junior     400\n",
       "25         Kelly Blair  Software Development  Mid-Senior     600\n",
       "27    Nicolas Odonnell  Software Development  Mid-Senior     700\n",
       "29         Javier Wood  Software Development     C-level     900\n",
       "34        Kelton Tyler  Software Development     C-level    1100\n",
       "51         Draven Reid  Software Development      Senior     950\n",
       "55      Sanai Andersen  Software Development  Mid-Senior     760\n",
       "58         Linda David  Software Development     C-level    1900\n",
       "59     Cailyn Holloway  Software Development      Senior     815\n",
       "66    Jefferson Cannon  Software Development     C-level    1200\n",
       "78         Sylvia Kane  Software Development      Senior     915\n",
       "79  Kristina Alexander  Software Development         Mid     600\n",
       "88       Leon Odonnell  Software Development  Mid-Senior     800\n",
       "90         Ruben Singh  Software Development  Mid-Senior     700\n",
       "94    William Lawrence  Software Development  Mid-Senior     750\n",
       "98         Willow Bush  Software Development      Junior     441"
      ]
     },
     "execution_count": 44,
     "metadata": {},
     "output_type": "execute_result"
    }
   ],
   "source": [
    "dataFrame[dataFrame[\"Department\"] == \"Software Development\"]"
   ]
  },
  {
   "cell_type": "code",
   "execution_count": 43,
   "metadata": {},
   "outputs": [
    {
     "name": "stdout",
     "output_type": "stream",
     "text": [
      "107.97831138652208\n"
     ]
    }
   ],
   "source": [
    "softwareSeniorMean = dataFrame[dataFrame[\"Department\"] == \"Software Development\"].groupby(\"Title\")[\"Salary\"].mean()[\"Senior\"] \n",
    "softwareJuniorMean =dataFrame[dataFrame[\"Department\"] == \"Software Development\"].groupby(\"Title\")[\"Salary\"].mean()[\"Junior\"]\n",
    "print(softwareSeniorMean/softwareJuniorMean * 100 - 100)\n"
   ]
  },
  {
   "cell_type": "code",
   "execution_count": null,
   "metadata": {},
   "outputs": [],
   "source": [
    "# cevap"
   ]
  },
  {
   "cell_type": "code",
   "execution_count": null,
   "metadata": {},
   "outputs": [],
   "source": [
    "#7) Finance departmanında c-level bir kişinin mid-senior bir kişiye göre maaşı ortalama ne kadar fazladır?"
   ]
  },
  {
   "cell_type": "code",
   "execution_count": 57,
   "metadata": {},
   "outputs": [
    {
     "data": {
      "text/plain": [
       "Title\n",
       "C-level       1030.00\n",
       "Junior         469.00\n",
       "Mid            691.25\n",
       "Mid-Senior     790.00\n",
       "Senior        1000.00\n",
       "Name: Salary, dtype: float64"
      ]
     },
     "execution_count": 57,
     "metadata": {},
     "output_type": "execute_result"
    }
   ],
   "source": [
    "dataFrame[dataFrame[\"Department\"] == \"Finance\"].groupby(\"Title\")[\"Salary\"].mean()\n"
   ]
  },
  {
   "cell_type": "code",
   "execution_count": 58,
   "metadata": {},
   "outputs": [
    {
     "name": "stdout",
     "output_type": "stream",
     "text": [
      "30.379746835443058\n"
     ]
    }
   ],
   "source": [
    "financeClevelMean = dataFrame[dataFrame[\"Department\"] == \"Finance\"].groupby(\"Title\")[\"Salary\"].mean()[\"C-level\"]\n",
    "financeMidseniorMean = dataFrame[dataFrame[\"Department\"] == \"Finance\"].groupby(\"Title\")[\"Salary\"].mean()[\"Mid-Senior\"]\n",
    "print(financeClevelMean / financeMidseniorMean *100 - 100)\n"
   ]
  },
  {
   "cell_type": "code",
   "execution_count": null,
   "metadata": {},
   "outputs": [],
   "source": [
    "#8) Software development departmanında c-level çalışan sayısı marketing departmanında çalışana oranla kaç kat fazladır?"
   ]
  },
  {
   "cell_type": "code",
   "execution_count": 72,
   "metadata": {},
   "outputs": [
    {
     "data": {
      "text/plain": [
       "3.0"
      ]
     },
     "execution_count": 72,
     "metadata": {},
     "output_type": "execute_result"
    }
   ],
   "source": [
    "SoftwareClevelValue = dataFrame[dataFrame[\"Title\"] == \"C-level\"].groupby(\"Department\").count()[\"Employee Name\"][\"Software Development\"]\n",
    "MarketingClevelValue = dataFrame[dataFrame[\"Title\"] == \"C-level\"].groupby(\"Department\").count()[\"Employee Name\"][\"Marketing\"]\n",
    "SoftwareClevelValue/MarketingClevelValue"
   ]
  },
  {
   "cell_type": "code",
   "execution_count": null,
   "metadata": {},
   "outputs": [],
   "source": []
  }
 ],
 "metadata": {
  "kernelspec": {
   "display_name": "Python 3 (ipykernel)",
   "language": "python",
   "name": "python3"
  },
  "language_info": {
   "codemirror_mode": {
    "name": "ipython",
    "version": 3
   },
   "file_extension": ".py",
   "mimetype": "text/x-python",
   "name": "python",
   "nbconvert_exporter": "python",
   "pygments_lexer": "ipython3",
   "version": "3.11.5"
  }
 },
 "nbformat": 4,
 "nbformat_minor": 4
}
